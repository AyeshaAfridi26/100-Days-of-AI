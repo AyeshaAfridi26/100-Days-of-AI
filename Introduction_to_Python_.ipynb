{
  "nbformat": 4,
  "nbformat_minor": 0,
  "metadata": {
    "colab": {
      "provenance": []
    },
    "kernelspec": {
      "name": "python3",
      "display_name": "Python 3"
    },
    "language_info": {
      "name": "python"
    }
  },
  "cells": [
    {
      "cell_type": "markdown",
      "source": [
        "### Introduction to Python\n",
        "- Interpreted, OOP, high level programming language\n",
        "- created by Guido van Rossum.\n"
      ],
      "metadata": {
        "id": "ARUJkYIWyTYp"
      }
    },
    {
      "cell_type": "markdown",
      "source": [
        "### Versions of Python:\n",
        "- Python 2\n",
        "- Python 3"
      ],
      "metadata": {
        "id": "CSyBV2DP03BY"
      }
    },
    {
      "cell_type": "markdown",
      "source": [
        "### Difference Between Python 2 and Python 3\n",
        "| Feature                    | **Python 2**                                   | **Python 3**                    |\n",
        "| -------------------------- | ---------------------------------------------- | ------------------------------- |\n",
        "| **Print**                  | `print \"Hello\"` (statement)                    | `print(\"Hello\")` (function)     |\n",
        "| **Division**               | `5/2 = 2` (integer division)                   | `5/2 = 2.5` (true division)     |\n",
        "| **Unicode**                | Text is ASCII by default                       | Text is **Unicode** by default  |\n",
        "| **`xrange()` / `range()`** | `xrange()` for iterators, `range()` makes list | Only `range()` (lazy iterator)  |\n",
        "| **Input**                  | `raw_input()` → string, `input()` → eval       | `input()` always returns string |\n",
        "| **Integer types**          | `int` and `long` separate                      | Single unified `int` type       |\n",
        "| **End of life**            | Ended Jan 2020                                 | Actively maintained & improved  |\n"
      ],
      "metadata": {
        "id": "0VM4S1GzMzta"
      }
    },
    {
      "cell_type": "markdown",
      "source": [
        "### Types of Python Interpreter\n",
        "| Interpreter     | Written In                              | Runs On          | Notes                                       |\n",
        "| --------------- | --------------------------------------- | ---------------- | ------------------------------------------- |\n",
        "| **CPython**     | C                                       | Any OS           | Official and default implementation.        |\n",
        "| **PyPy**        | RPython (a restricted subset of Python) | Any OS           | Uses JIT to run Python faster.              |\n",
        "| **Jython**      | Java                                    | JVM              | Lets Python use Java libraries.             |\n",
        "| **IronPython**  | C#                                      | .NET / CLR       | Integrates with Microsoft’s .NET ecosystem. |\n",
        "| **MicroPython** | C                                       | Microcontrollers | Runs Python on very small chips.            |\n"
      ],
      "metadata": {
        "id": "5tkKjGC4KS_G"
      }
    },
    {
      "cell_type": "markdown",
      "source": [
        "## Python Basics"
      ],
      "metadata": {
        "id": "QalPA-MiQcVi"
      }
    },
    {
      "cell_type": "code",
      "execution_count": 7,
      "metadata": {
        "colab": {
          "base_uri": "https://localhost:8080/",
          "height": 70
        },
        "id": "aZviihf1yR7I",
        "outputId": "3822a0d4-573a-47f1-a1d4-7808daaf29cb"
      },
      "outputs": [
        {
          "output_type": "stream",
          "name": "stdout",
          "text": [
            "Hello World\n"
          ]
        },
        {
          "output_type": "execute_result",
          "data": {
            "text/plain": [
              "'\\nprint() is a build-in python function that display text on screen.\\ntext in (\"\") is displayed.\\n# is used to comment something, python ignores comments.\\n'"
            ],
            "application/vnd.google.colaboratory.intrinsic+json": {
              "type": "string"
            }
          },
          "metadata": {},
          "execution_count": 7
        }
      ],
      "source": [
        "print (\"Hello World\") #This is a comment\n",
        "\"\"\"\n",
        "print() is a build-in python function that display text on screen.\n",
        "text in (\"\") is displayed.\n",
        "# is used to comment something, python ignores comments.\n",
        "\"\"\""
      ]
    },
    {
      "cell_type": "markdown",
      "source": [
        "### Indentation in python\n",
        "- Indentation is used to define blocks of code. It tells the Python interpreter that a group of statements belongs to a specific block\n",
        "- The most common convention is to use 4 spaces or a tab, per level of indentation.\n"
      ],
      "metadata": {
        "id": "kXQPr50WX5mL"
      }
    },
    {
      "cell_type": "code",
      "source": [
        "print(\"unindented code\")\n"
      ],
      "metadata": {
        "colab": {
          "base_uri": "https://localhost:8080/"
        },
        "id": "Pph0V3YrVu3t",
        "outputId": "4208ee1b-2593-42f3-ae7d-fa5bdd9e59d7"
      },
      "execution_count": 8,
      "outputs": [
        {
          "output_type": "stream",
          "name": "stdout",
          "text": [
            "unindented code\n"
          ]
        }
      ]
    },
    {
      "cell_type": "code",
      "source": [
        "print('unindented code')\n",
        " print('indented code')"
      ],
      "metadata": {
        "colab": {
          "base_uri": "https://localhost:8080/",
          "height": 108
        },
        "id": "CDh92NbAYHQ-",
        "outputId": "8db731dd-ceac-438d-c0ba-3653760f6416"
      },
      "execution_count": 11,
      "outputs": [
        {
          "output_type": "error",
          "ename": "IndentationError",
          "evalue": "unexpected indent (ipython-input-1374404217.py, line 2)",
          "traceback": [
            "\u001b[0;36m  File \u001b[0;32m\"/tmp/ipython-input-1374404217.py\"\u001b[0;36m, line \u001b[0;32m2\u001b[0m\n\u001b[0;31m    print('indented code')\u001b[0m\n\u001b[0m    ^\u001b[0m\n\u001b[0;31mIndentationError\u001b[0m\u001b[0;31m:\u001b[0m unexpected indent\n"
          ]
        }
      ]
    },
    {
      "cell_type": "code",
      "source": [],
      "metadata": {
        "id": "eWjOH0hoYJbh"
      },
      "execution_count": null,
      "outputs": []
    }
  ]
}