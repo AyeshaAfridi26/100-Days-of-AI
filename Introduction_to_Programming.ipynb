{
  "nbformat": 4,
  "nbformat_minor": 0,
  "metadata": {
    "colab": {
      "provenance": []
    },
    "kernelspec": {
      "name": "python3",
      "display_name": "Python 3"
    },
    "language_info": {
      "name": "python"
    }
  },
  "cells": [
    {
      "cell_type": "markdown",
      "source": [
        "**Introduction to Programming**\n",
        "- A program makes a computer usable\n",
        "-  Computer responds only to a predetermined set of known commands.\n",
        "- A complete set of known commands is called an instruction list (assembly language thing)."
      ],
      "metadata": {
        "id": "k71XgBHbR7hV"
      }
    },
    {
      "cell_type": "markdown",
      "source": [
        "**What Makes a Language?**\n",
        "- **Alphabets:** A set of symbols used to build words of a certain language.\n",
        "- **Lexis:** A set of words the language offers its users.\n",
        "- **Syntax:** A set of rules used to determine if a certain string of words forms a valid sentence.\n",
        "- **Semantics:** A set of rules determining if a certain phrase makes sense."
      ],
      "metadata": {
        "id": "bzbkVfDMVp-2"
      }
    },
    {
      "cell_type": "code",
      "source": [
        "if True\n",
        "    print(\"Hello\")  # missing colon: Syntax Error\n"
      ],
      "metadata": {
        "id": "v4oPxg1cWkZs"
      },
      "execution_count": null,
      "outputs": []
    },
    {
      "cell_type": "code",
      "execution_count": 1,
      "metadata": {
        "colab": {
          "base_uri": "https://localhost:8080/"
        },
        "id": "RkgB-IdzRUD5",
        "outputId": "e4f0ffc9-c592-4b62-8aeb-92abfb32a366"
      },
      "outputs": [
        {
          "output_type": "stream",
          "name": "stdout",
          "text": [
            "2\n"
          ]
        }
      ],
      "source": [
        "# You wanted addition, but wrote subtraction\n",
        "result = 5 - 3\n",
        "print(result)  # Output: 2, but you expected 8 (Semantic Error)\n"
      ]
    },
    {
      "cell_type": "code",
      "source": [],
      "metadata": {
        "id": "jsqw91xUYq1x"
      },
      "execution_count": null,
      "outputs": []
    },
    {
      "cell_type": "markdown",
      "source": [
        "**Machine Language vs High level Language**\n",
        "- IL is computer's mother tongue\n",
        "- These languages enable humans to express commands to computers.\n",
        "- A program written in a high-level programming language is called a source code.\n",
        "- The file containing the source code is called the source file"
      ],
      "metadata": {
        "id": "0U2tgCEZYg_5"
      }
    },
    {
      "cell_type": "markdown",
      "source": [
        "**Compilation vs Interpretation**\n",
        "- There are two different ways of transforming a program from a high-level programming language into machine language:\n",
        "\n",
        " **Compilation:**\n",
        "- The entire program is translated into machine code before running.\n",
        "- Produces a separate executable file.\n",
        "- Runs fast once compiled, because the CPU executes machine code directly.\n",
        "\n",
        "- compilation takes time, and you must recompile if you make changes.\n",
        "\n",
        "**Interpreted Language:**\n",
        "- Program is translated line by line while running.\n",
        "- No separate executable is created.\n",
        "- Slower than compiled code (because translation happens on the fly).\n",
        "- you can run immediately, easy for testing & debugging.\n"
      ],
      "metadata": {
        "id": "BS8nChPGaGyM"
      }
    },
    {
      "cell_type": "code",
      "source": [],
      "metadata": {
        "id": "tg9w3V9xWzQJ"
      },
      "execution_count": null,
      "outputs": []
    }
  ]
}